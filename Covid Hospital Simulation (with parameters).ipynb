{
 "cells": [
  {
   "cell_type": "code",
   "execution_count": null,
   "id": "92a7352e",
   "metadata": {},
   "outputs": [],
   "source": [
    "import simpy\n",
    "import numpy as np\n",
    "from random import uniform, normalvariate, expovariate, seed, randint\n",
    "\n",
    "from math import floor\n",
    "from scipy import stats\n",
    "\n",
    "import matplotlib.pyplot as mp\n",
    "import seaborn\n",
    "seaborn.set_theme(style=\"darkgrid\")"
   ]
  },
  {
   "cell_type": "code",
   "execution_count": null,
   "id": "f204138b",
   "metadata": {},
   "outputs": [],
   "source": [
    "def Average(list):            # progressive average\n",
    "    temp = []\n",
    "    for i in range(len(list)):\n",
    "        temp.append(sum(list[0:i]) / (i+1))\n",
    "    return temp\n",
    "\n",
    "def QueueL(t=np.inf):         # Queue length at time (t)\n",
    "    arr = set([int(Ă[k][1][9:]) for k in range(len(Ă)) if Ă[k][0] <= t])\n",
    "    par = set([int(Ĵ[k][1][9:]) for k in range(len(Ĵ)) if Ĵ[k][0] <= t])\n",
    "    return len(arr.difference(par))\n",
    "\n",
    "def Arrival(s=0, t=np.inf):   # Arrivals in [s, t] interval\n",
    "    temp = []\n",
    "    for k in range(len(Ă)):\n",
    "        if s <= int(Ă[k][0]) <= t:\n",
    "               temp.append(int(Ă[k][1][9:]))\n",
    "    return print('Number of patients arrived in [%d, %d] interval is: %d persons\\nTheir ID:'%(s, t, len(temp)), temp)\n",
    "\n",
    "def Partir(s=0, t=np.inf):    # Departures in [s, t] interval\n",
    "    par = set([int(Ĵ[k][1][9:]) for k in range(len(Ĵ)) if s <= Ĵ[k][0] <= t])\n",
    "    return sorted(list(par))"
   ]
  },
  {
   "cell_type": "code",
   "execution_count": null,
   "id": "503f896f",
   "metadata": {},
   "outputs": [],
   "source": [
    "R_Seed = 4                              # Random Seed for Psuduo random generationseed\n",
    "seed(R_Seed)                            # This helps scientific proccess for checking the results\n",
    "Total_Beds = 10                         # Number of Available Beds in the Hospital's ICU\n",
    "λ = 10                                  # Average arrival time [in days] for a patient, ...\n",
    "                                        # ... so average arrival rate is 1/λ persons per day.\n",
    "CT = 7                                  # Treatment Duration in days\n",
    "min_Tol = uniform(0, 1)                 # Min. patients tolerance in days\n",
    "Max_Tol = uniform(1, 2)                 # Max. patients tolerance in days\n",
    "First_Batch = randint(1, 10)            # Initial number of patient in day 0.0\n",
    "SIM_TIME = 365                          # Simulation time in days [integer]\n",
    "\n",
    "Ă = []                                  # Arrivals (time, name)\n",
    "Ň = []                                  # Throughput (time, 0|1)\n",
    "Q = []                                  # Queue legth (persons)\n",
    "B = []                                  # Server utilization [Busy] (Treatment Duration = CT)\n",
    "W = []                                  # Waiting time (Success wait OR Failure wait)\n",
    "Ĵ = []                                  # Exact time of leaving queue (ICU or dead)\n",
    "\n",
    "def Patient(env, name, hp):             # Patients arrives, is served if possible and leaves (dead or alive).\n",
    "    arrive = env.now\n",
    "    Ă.append((arrive, name))\n",
    "    print('Day%7.4f: %s Arrived at Medical Center ' %(arrive, name))\n",
    "    with hp.Bed.request() as request:\n",
    "        patience = uniform(min_Tol, Max_Tol)\n",
    "        results = yield request | env.timeout(patience)\n",
    "        waitS = env.now - arrive\n",
    "        if request in results:          # Patient got to the IcuBed\n",
    "            W.append(waitS)\n",
    "            Ĵ.append((env.now, name))\n",
    "            print('Day%7.4f: %s Waited for ICU Service %5.2f days & enters the ICU on day %5.2f' \n",
    "                  %(env.now, name, waitS, env.now))\n",
    "            yield env.process(hp.Cure(name))\n",
    "        else:                           # Patient couldn't get to the IcuBed and failed\n",
    "            waitF = env.now - arrive\n",
    "            Ĵ.append((env.now, name))\n",
    "            Ň.append((env.now, 0))\n",
    "            W.append(waitF)\n",
    "            print('Day%7.4f: %s Passed away after %7.4f days' %(env.now, name, waitF))\n",
    "\n",
    "class Hospital(object):\n",
    "    def __init__(self, env, Beds, CureTime):\n",
    "        self.env = env\n",
    "        self.Bed = simpy.Resource(env, Beds)\n",
    "        self.CureTime = CureTime\n",
    "\n",
    "    def Cure(self, name):\n",
    "        Bedridden = normalvariate(CT, CT/6)\n",
    "        yield self.env.timeout(Bedridden)\n",
    "        B.append(CT)\n",
    "        Ň.append((env.now, 1))\n",
    "        print(\"Day%7.4f: %s recived medical care for %7.4f days and discharged\" \n",
    "              %(env.now, name, Bedridden))\n",
    "\n",
    "def setup(env, beds, CureTime, landa):  # Create a Hospital, a number of initial patients and go on\n",
    "    hp = Hospital(env, beds, CureTime)  # Creating the Hospital\n",
    "    for i in range(First_Batch):        # Create initial patients:\n",
    "        env.process(Patient(env, 'Patient #%d' %(i+1), hp))\n",
    "    while True:                         # Keep creating more patients every ~λ days while the simulation is running\n",
    "        yield env.timeout(expovariate(landa))\n",
    "        i += 1\n",
    "        env.process(Patient(env, 'Patient #%d' %(i+1), hp))\n",
    "\n",
    "print('CoViD-19 Hospital', '\\n')\n",
    "env = simpy.Environment()\n",
    "env.process(setup(env, Total_Beds, CT, λ))\n",
    "env.run(until=SIM_TIME)"
   ]
  },
  {
   "cell_type": "code",
   "execution_count": null,
   "id": "fa9ee406",
   "metadata": {
    "scrolled": true
   },
   "outputs": [],
   "source": [
    "print ('Last patient is:', Ă[-1][1])"
   ]
  },
  {
   "cell_type": "markdown",
   "id": "a3880827",
   "metadata": {},
   "source": [
    "# Arrivals:"
   ]
  },
  {
   "cell_type": "code",
   "execution_count": null,
   "id": "22f0d1e8",
   "metadata": {},
   "outputs": [],
   "source": [
    "Arrival(364, 365)"
   ]
  },
  {
   "cell_type": "code",
   "execution_count": null,
   "id": "10af75bc",
   "metadata": {
    "scrolled": true
   },
   "outputs": [],
   "source": [
    "A_ = [] \n",
    "for a in Ă:\n",
    "    A_.append(floor(a[0]))\n",
    "\n",
    "mp.figure(figsize=(17,4))\n",
    "a1, a2, a3 = mp.hist(A_, int(SIM_TIME))\n",
    "mp.plot(range(SIM_TIME), np.ones(SIM_TIME)*np.average(a1), '--')\n",
    "mp.show()"
   ]
  },
  {
   "cell_type": "code",
   "execution_count": null,
   "id": "0b9570a9",
   "metadata": {},
   "outputs": [],
   "source": [
    "A_[-11:]"
   ]
  },
  {
   "cell_type": "code",
   "execution_count": null,
   "id": "538d7ff4",
   "metadata": {
    "scrolled": true
   },
   "outputs": [],
   "source": [
    "print('Average of Arrivals: Ā = %.2f patients per day' %np.average(a1))"
   ]
  },
  {
   "cell_type": "code",
   "execution_count": null,
   "id": "458b7157",
   "metadata": {},
   "outputs": [],
   "source": [
    "List = a1\n",
    "X = range(len(List))\n",
    "Y = List\n",
    "mp.figure(figsize=(6,4))\n",
    "Δ = max(List) - min(List)\n",
    "μ, σ = stats.norm.fit(Y)\n",
    "mp.hist(Y, 17)\n",
    "mp.show()\n",
    "print(\"X ~ N(%.2f, %.2f)\" %(μ, σ))\n",
    "mp.figure(figsize=(17,4))\n",
    "mp.title(\"Arrivals\")\n",
    "mp.plot(X, Y, label='On Each Day')\n",
    "mp.plot(X, Average(Y), label='On Average')\n",
    "mp.plot(X, np.ones(len(List))*np.average(Y), '--', label = 'Average Value')\n",
    "mp.legend();"
   ]
  },
  {
   "cell_type": "markdown",
   "id": "1d4ac6fa",
   "metadata": {},
   "source": [
    "# Throughput \n",
    "(Proccessed units per unit of time)"
   ]
  },
  {
   "cell_type": "code",
   "execution_count": null,
   "id": "9d9f0f63",
   "metadata": {},
   "outputs": [],
   "source": [
    "N = []\n",
    "for k in range(len(Ň)):\n",
    "    N.append(Ň[k][1])\n",
    "\n",
    "print('Total: %.2f Persons on each day\\nSuaccess: %.2f  Persons on each day\\nFailure: %.2f Persons on each day' \n",
    "      %((N.count(1) + N.count(0)) / SIM_TIME, N.count(1) / SIM_TIME, N.count(0) / SIM_TIME))"
   ]
  },
  {
   "cell_type": "code",
   "execution_count": null,
   "id": "535d76df",
   "metadata": {},
   "outputs": [],
   "source": [
    "N_ = sum(N) / len(Ĵ)\n",
    "print('Over All\\nSuccess Rate: N̄ = %.2f%%' %(100*N_))"
   ]
  },
  {
   "cell_type": "code",
   "execution_count": null,
   "id": "bacb499d",
   "metadata": {},
   "outputs": [],
   "source": [
    "List = N\n",
    "X = range(len(List))\n",
    "Y = List\n",
    "mp.figure(figsize=(6,4))\n",
    "N1, N2, N3 = mp.hist(List, 2)\n",
    "print(\"Succes= %.02f%%\\nFailure= %.2f%%\" %(100*N1[1] / (N1[0]+N1[1]), 100*N1[0] / (N1[0]+N1[1]) ) )\n",
    "mp.show()\n",
    "\n",
    "mp.figure(figsize=(17,4))\n",
    "mp.title(\"Throughput\")\n",
    "# mp.plot(range(len(List)), List, '.', label='On Each Day')\n",
    "mp.plot(X, Average(Y), label='On Average')\n",
    "mp.plot(X, np.ones(len(X))*np.average(Y), '--', label = 'Average Value')\n",
    "mp.legend();"
   ]
  },
  {
   "cell_type": "markdown",
   "id": "3cd301b8",
   "metadata": {},
   "source": [
    "# Jobs Done"
   ]
  },
  {
   "cell_type": "code",
   "execution_count": null,
   "id": "84b2ceab",
   "metadata": {},
   "outputs": [],
   "source": [
    "print('Total jobs Done: %d personns (dead or alive)' %len(Ĵ))"
   ]
  },
  {
   "cell_type": "code",
   "execution_count": null,
   "id": "12732b8e",
   "metadata": {},
   "outputs": [],
   "source": [
    "print('Unfinished Businesses: %d jobs' %(len(Ă) - len(Ĵ)))"
   ]
  },
  {
   "cell_type": "code",
   "execution_count": null,
   "id": "19b33969",
   "metadata": {},
   "outputs": [],
   "source": [
    "J = []\n",
    "X = range(SIM_TIME)\n",
    "for k in range(len(Ĵ)):\n",
    "    J.append(floor(Ĵ[k][0]))\n",
    "\n",
    "mp.figure(figsize=(17,4))    \n",
    "j1, j2, j3 = mp.hist(J, int(SIM_TIME))\n",
    "J_ = np.average(j1)"
   ]
  },
  {
   "cell_type": "code",
   "execution_count": null,
   "id": "633dee13",
   "metadata": {},
   "outputs": [],
   "source": [
    "print('Average of Jobs done: J̄ = %.2f patients per day' %J_)"
   ]
  },
  {
   "cell_type": "code",
   "execution_count": null,
   "id": "71b93f4f",
   "metadata": {},
   "outputs": [],
   "source": [
    "List = j1\n",
    "X = range(len(List))\n",
    "Y = List\n",
    "\n",
    "mp.figure(figsize=(6,4))\n",
    "Δ = int(max(List) - min(List))\n",
    "μ, σ = stats.norm.fit(List)\n",
    "mp.hist(List, Δ)\n",
    "mp.show()\n",
    "print(\"Jobs Done on each day ~ N(%.2f, %.2f)\" %(μ, σ))\n",
    "\n",
    "mp.figure(figsize=(17,4))\n",
    "mp.title(\"Jobs Done\")\n",
    "mp.plot(range(len(List)), List, label='On Each Day')\n",
    "mp.plot(range(len(List)), Average(List), label='On Average')\n",
    "mp.plot(X, np.ones(len(List))*np.average(Y), '--', label = 'Average Value')\n",
    "mp.legend();"
   ]
  },
  {
   "cell_type": "markdown",
   "id": "f4c99b78",
   "metadata": {},
   "source": [
    "# Queue Length"
   ]
  },
  {
   "cell_type": "code",
   "execution_count": null,
   "id": "aef3e322",
   "metadata": {
    "scrolled": true
   },
   "outputs": [],
   "source": [
    "QL = [QueueL(d) for d in range(SIM_TIME)]\n",
    "Q_ = np.average(QL)\n",
    "print('Average queue length: Q̄ = %.1f persons' %Q_)"
   ]
  },
  {
   "cell_type": "code",
   "execution_count": null,
   "id": "6d578960",
   "metadata": {},
   "outputs": [],
   "source": [
    "List = QL\n",
    "X = range(len(List))\n",
    "Y = List\n",
    "\n",
    "mp.figure(figsize=(6,4))\n",
    "Δ = max(List) - min(List)\n",
    "μ, σ = stats.norm.fit(List)\n",
    "mp.hist(List, Δ)\n",
    "mp.show()\n",
    "print(\"X ~ N(%.2f, %.2f)\" %(μ, σ))\n",
    "\n",
    "mp.figure(figsize=(17,4))\n",
    "mp.title(\"Queue Length\")\n",
    "mp.plot(range(len(List)), List, label='On Each Day')\n",
    "mp.plot(range(len(List)), Average(List), label='On Average')\n",
    "mp.plot(X, np.ones(len(List))*np.average(Y), '--', label = 'Average Value')\n",
    "mp.legend();"
   ]
  },
  {
   "cell_type": "markdown",
   "id": "6e5084ff",
   "metadata": {},
   "source": [
    "# Server Utilization"
   ]
  },
  {
   "cell_type": "code",
   "execution_count": null,
   "id": "1d957ebb",
   "metadata": {},
   "outputs": [],
   "source": [
    "B_ = sum(B) / (Total_Beds*SIM_TIME)\n",
    "print('Average server utilization: B̄ = %.2f%%' %(100*B_))"
   ]
  },
  {
   "cell_type": "markdown",
   "id": "d19557a3",
   "metadata": {},
   "source": [
    "# Waiting Time"
   ]
  },
  {
   "cell_type": "code",
   "execution_count": null,
   "id": "ebb7c801",
   "metadata": {},
   "outputs": [],
   "source": [
    "W_ = sum(W) / len(W)\n",
    "print('Average time spent by individuals in queue: W̄ = %5.2f days' %W_)"
   ]
  },
  {
   "cell_type": "code",
   "execution_count": null,
   "id": "3ee654ac",
   "metadata": {},
   "outputs": [],
   "source": [
    "print ('Last 10 patients departed system (dead or alive): ', Partir(0, 365)[-10:])"
   ]
  }
 ],
 "metadata": {
  "hide_input": false,
  "kernelspec": {
   "display_name": "Python 3",
   "language": "python",
   "name": "python3"
  },
  "language_info": {
   "codemirror_mode": {
    "name": "ipython",
    "version": 3
   },
   "file_extension": ".py",
   "mimetype": "text/x-python",
   "name": "python",
   "nbconvert_exporter": "python",
   "pygments_lexer": "ipython3",
   "version": "3.8.8"
  },
  "latex_envs": {
   "LaTeX_envs_menu_present": true,
   "autoclose": true,
   "autocomplete": true,
   "bibliofile": "biblio.bib",
   "cite_by": "apalike",
   "current_citInitial": 1,
   "eqLabelWithNumbers": true,
   "eqNumInitial": 1,
   "hotkeys": {
    "equation": "Ctrl-E",
    "itemize": "Ctrl-I"
   },
   "labels_anchors": false,
   "latex_user_defs": false,
   "report_style_numbering": false,
   "user_envs_cfg": false
  }
 },
 "nbformat": 4,
 "nbformat_minor": 5
}
